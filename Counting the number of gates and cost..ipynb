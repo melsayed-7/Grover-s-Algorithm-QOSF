{
 "cells": [
  {
   "cell_type": "markdown",
   "metadata": {},
   "source": [
    "## Find the number of gates and calculate the quantum cost of the circuit."
   ]
  },
  {
   "cell_type": "code",
   "execution_count": 1,
   "metadata": {},
   "outputs": [],
   "source": [
    "from qiskit import *"
   ]
  },
  {
   "cell_type": "code",
   "execution_count": 2,
   "metadata": {},
   "outputs": [
    {
     "data": {
      "text/plain": [
       "<qiskit.circuit.instructionset.InstructionSet at 0x7f485fc74dd0>"
      ]
     },
     "execution_count": 2,
     "metadata": {},
     "output_type": "execute_result"
    }
   ],
   "source": [
    "#string to be found is 01011001\n",
    "circuit=QuantumCircuit(16,8)\n",
    "a=[0,1,2,3,4,5,6,7,15]\n",
    "b=[0,1,2,3,4,5,6,7]\n",
    "circuit.x(15)\n",
    "circuit.h(a)\n",
    "i=0\n",
    "while i<12:\n",
    "    i=i+1\n",
    "    #oracle\n",
    "    circuit.x([1,2,5,7])\n",
    "    circuit.ccx(0,1,8)\n",
    "    x=2\n",
    "    y=8\n",
    "    z=9\n",
    "    while x<8:\n",
    "        circuit.ccx(x,y,z)\n",
    "        x=x+1\n",
    "        y=y+1\n",
    "        z=z+1\n",
    "    circuit.cx(14,15)\n",
    "    while x>2:\n",
    "        x=x-1\n",
    "        y=y-1\n",
    "        z=z-1\n",
    "        circuit.ccx(x,y,z)\n",
    "    circuit.ccx(0,1,8)\n",
    "    circuit.x([1,2,5,7])\n",
    "\n",
    "    #grover diffusion operator\n",
    "    circuit.h(b)\n",
    "    circuit.x(b)\n",
    "    circuit.ccx(0,1,8)\n",
    "    x=2\n",
    "    y=8\n",
    "    z=9\n",
    "    while x<8:\n",
    "        circuit.ccx(x,y,z)\n",
    "        x=x+1\n",
    "        y=y+1\n",
    "        z=z+1\n",
    "    circuit.cx(14,15)\n",
    "    while x>2:\n",
    "        x=x-1\n",
    "        y=y-1\n",
    "        z=z-1\n",
    "        circuit.ccx(x,y,z)\n",
    "    circuit.ccx(0,1,8)  \n",
    "    circuit.x(b)\n",
    "    circuit.h(b)\n",
    "\n",
    "circuit.measure(b,b)"
   ]
  },
  {
   "cell_type": "markdown",
   "metadata": {},
   "source": [
    "### -Number of gate:\n",
    "**Use the `count_ops()` method to harvest the number of operations in the circuit.**"
   ]
  },
  {
   "cell_type": "code",
   "execution_count": 3,
   "metadata": {},
   "outputs": [
    {
     "data": {
      "text/plain": [
       "OrderedDict([('ccx', 336), ('x', 289), ('h', 201), ('cx', 24), ('measure', 8)])"
      ]
     },
     "execution_count": 3,
     "metadata": {},
     "output_type": "execute_result"
    }
   ],
   "source": [
    "########### Count the operators ###########\n",
    "circuit.count_ops()"
   ]
  },
  {
   "cell_type": "markdown",
   "metadata": {},
   "source": [
    "### -Quantum Cost:\n",
    "The quantum cost of a circuit is the number of primitive quantum gates needed to implement the circuit."
   ]
  },
  {
   "cell_type": "markdown",
   "metadata": {},
   "source": [
    "And here we go!\n",
    "\n",
    "There are: \n",
    "\n",
    "* $336$ Toffoli Gate `ccx`.\n",
    "* $289$ Not Gate `x`.\n",
    "* $201$ Hadamard Gate `h`.\n",
    "* $24$ Control Gate `cx`.\n",
    "\n",
    "**The costs of Gates `x`, `h` and `cx` are said to be $1$, and that of `ccx` is $5$.**\n",
    "\n",
    "Each quantum computer model may have a different cost for a given quantum gate.\n",
    "\n",
    "$\\rightarrow$ hence the quantum cost of that circuit is:$$Quantum\\;Cost = 5\\times336 + 1\\times289 + 1\\times201 + 1\\times24 = 2194.$$"
   ]
  },
  {
   "cell_type": "markdown",
   "metadata": {},
   "source": [
    "Actually, let us decompose the circuit to the primitive gates (elementary gate), like the rotation gates U3 and the CNOT gate, then calculate the cost.\n",
    "\n",
    "Any unitary operation can be replaced by a combination of controlled-NOT (CNOT) and single qubit operations, or gates U1,2,3\n",
    "\n",
    "By using `qiskit.transpiler` and importing `PassManager`, we can decompose this circuit into U3 (`u3`) gates and CNOT (`cx`) gates using the qiskit tool `Unroller` program, as seen below:"
   ]
  },
  {
   "cell_type": "code",
   "execution_count": 4,
   "metadata": {},
   "outputs": [
    {
     "data": {
      "text/plain": [
       "OrderedDict([('u3', 3514), ('cx', 2040), ('measure', 8)])"
      ]
     },
     "execution_count": 4,
     "metadata": {},
     "output_type": "execute_result"
    }
   ],
   "source": [
    "from qiskit.transpiler import PassManager\n",
    "from qiskit.transpiler.passes import Unroller\n",
    "pass_ = Unroller(['u3', 'cx'])\n",
    "pm = PassManager(pass_)\n",
    "new_circuit = pm.run(circuit) \n",
    "new_circuit.count_ops()"
   ]
  },
  {
   "cell_type": "markdown",
   "metadata": {},
   "source": [
    "There are: \n",
    "\n",
    "* $336$ U3 Gate `u3`.\n",
    "* $2040$ Ctrolled Gate `cx`.\n",
    "\n",
    "$\\rightarrow$ Terefore, the quantum cost of that circuit in thos case is:$$Quantum\\;Cost = 336 + 2040= 2376$$"
   ]
  },
  {
   "cell_type": "markdown",
   "metadata": {},
   "source": [
    "Whereas, the CNOT gate is the most expensive gate to implement, wherein the current NISQ devises the noise introduced implementing the CX gate is heavier.\n",
    "\n",
    "Therefore, we may weigh CX gates more than a single-qubit gate for cost evaluation.\n",
    "\n",
    "**The lesser the quantum cost, the better the circuit.**"
   ]
  }
 ],
 "metadata": {
  "kernelspec": {
   "display_name": "Python 3",
   "language": "python",
   "name": "python3"
  },
  "language_info": {
   "codemirror_mode": {
    "name": "ipython",
    "version": 3
   },
   "file_extension": ".py",
   "mimetype": "text/x-python",
   "name": "python",
   "nbconvert_exporter": "python",
   "pygments_lexer": "ipython3",
   "version": "3.7.6"
  }
 },
 "nbformat": 4,
 "nbformat_minor": 4
}
