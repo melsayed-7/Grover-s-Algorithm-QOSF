{
 "cells": [
  {
   "cell_type": "code",
   "execution_count": 2,
   "metadata": {},
   "outputs": [],
   "source": [
    "from qiskit import *\n",
    "%matplotlib inline\n",
    "from math import *\n",
    "from qiskit.tools.visualization import plot_histogram\n",
    "import numpy as np"
   ]
  },
  {
   "cell_type": "code",
   "execution_count": 19,
   "metadata": {},
   "outputs": [
    {
     "data": {
      "text/plain": [
       "{'01011001': 1024}"
      ]
     },
     "execution_count": 19,
     "metadata": {},
     "output_type": "execute_result"
    }
   ],
   "source": [
    "#string to be found is 01011001\n",
    "circuit=QuantumCircuit(16,8)\n",
    "a=[0,1,2,3,4,5,6,7,15]\n",
    "b=[0,1,2,3,4,5,6,7]\n",
    "circuit.x(15)\n",
    "circuit.h(a)\n",
    "i=0\n",
    "while i<12:\n",
    "    i=i+1\n",
    "    #oracle\n",
    "    circuit.barrier()\n",
    "    circuit.x([1,2,5,7])\n",
    "    circuit.ccx(0,1,8)\n",
    "    x=2\n",
    "    y=8\n",
    "    z=9\n",
    "    while x<8:\n",
    "        circuit.ccx(x,y,z)\n",
    "        x=x+1\n",
    "        y=y+1\n",
    "        z=z+1\n",
    "    circuit.cx(14,15)\n",
    "    while x>2:\n",
    "        x=x-1\n",
    "        y=y-1\n",
    "        z=z-1\n",
    "        circuit.ccx(x,y,z)\n",
    "    circuit.ccx(0,1,8)\n",
    "    circuit.x([1,2,5,7])\n",
    "    circuit.barrier()\n",
    "\n",
    "    #grover diffusion operator\n",
    "    circuit.barrier()\n",
    "    circuit.h(b)\n",
    "    circuit.x(b)\n",
    "    circuit.ccx(0,1,8)\n",
    "    x=2\n",
    "    y=8\n",
    "    z=9\n",
    "    while x<8:\n",
    "        circuit.ccx(x,y,z)\n",
    "        x=x+1\n",
    "        y=y+1\n",
    "        z=z+1\n",
    "    circuit.cx(14,15)\n",
    "    while x>2:\n",
    "        x=x-1\n",
    "        y=y-1\n",
    "        z=z-1\n",
    "        circuit.ccx(x,y,z)\n",
    "    circuit.ccx(0,1,8)  \n",
    "    circuit.x(b)\n",
    "    circuit.h(b)\n",
    "\n",
    "\n",
    "circuit.barrier()\n",
    "circuit.barrier()  \n",
    "circuit.measure(b,b)\n",
    "simulator=Aer.get_backend('qasm_simulator')\n",
    "result=execute(circuit,simulator).result()\n",
    "measurement=result.get_counts()\n",
    "measurement"
   ]
  },
  {
   "cell_type": "code",
   "execution_count": 64,
   "metadata": {},
   "outputs": [
    {
     "data": {
      "text/plain": [
       "1"
      ]
     },
     "execution_count": 64,
     "metadata": {},
     "output_type": "execute_result"
    }
   ],
   "source": []
  },
  {
   "cell_type": "code",
   "execution_count": null,
   "metadata": {},
   "outputs": [],
   "source": []
  },
  {
   "cell_type": "code",
   "execution_count": null,
   "metadata": {},
   "outputs": [],
   "source": []
  }
 ],
 "metadata": {
  "kernelspec": {
   "display_name": "Python 3",
   "language": "python",
   "name": "python3"
  },
  "language_info": {
   "codemirror_mode": {
    "name": "ipython",
    "version": 3
   },
   "file_extension": ".py",
   "mimetype": "text/x-python",
   "name": "python",
   "nbconvert_exporter": "python",
   "pygments_lexer": "ipython3",
   "version": "3.7.3"
  }
 },
 "nbformat": 4,
 "nbformat_minor": 2
}
