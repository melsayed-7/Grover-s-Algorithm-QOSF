{
 "cells": [
  {
   "cell_type": "code",
   "execution_count": 1,
   "metadata": {},
   "outputs": [],
   "source": [
    "from qiskit import *"
   ]
  },
  {
   "cell_type": "code",
   "execution_count": 2,
   "metadata": {},
   "outputs": [],
   "source": [
    "%matplotlib inline\n",
    "from math import *\n",
    "from qiskit.tools.visualization import plot_histogram\n",
    "import matplotlib.pyplot as plt"
   ]
  },
  {
   "cell_type": "code",
   "execution_count": 8,
   "metadata": {},
   "outputs": [
    {
     "data": {
      "text/plain": [
       "-2.0"
      ]
     },
     "execution_count": 8,
     "metadata": {},
     "output_type": "execute_result"
    }
   ],
   "source": [
    "ListExpectationValue=[]\n",
    "step=pi/32\n",
    "\n",
    "for n in range(65):\n",
    "    \n",
    "   \n",
    "    #XX-gate\n",
    "    circuit1=QuantumCircuit(2,2)\n",
    "    #ansatz\n",
    "    circuit1.h(0)\n",
    "    circuit1.rz(n*pi/32,0)\n",
    "    circuit1.x(1) \n",
    "    circuit1.cx(0,1)\n",
    "    #changing basis\n",
    "    circuit1.cx(1,0)\n",
    "    circuit1.h(1)\n",
    "    circuit1.cx(0,1)\n",
    "    circuit1.measure([0,1],[0,1])\n",
    "    simulator=Aer.get_backend('qasm_simulator')\n",
    "    result=execute(circuit1,simulator).result()\n",
    "    measurement=result.get_counts()\n",
    "    ExpectationValueX=(measurement.get('00',0) +measurement.get('11',0)-measurement.get('01',0)-measurement.get('10',0))/1024\n",
    "        \n",
    "        \n",
    "        \n",
    "    #ZZ-gate\n",
    "    circuit1=QuantumCircuit(2,2)\n",
    "    #ansatz\n",
    "    circuit1.h(0)\n",
    "    circuit1.rz(n*pi/32,0)\n",
    "    circuit1.x(1) \n",
    "    circuit1.cx(0,1)\n",
    "    circuit1.measure([0,1],[0,1])\n",
    "    simulator=Aer.get_backend('qasm_simulator')\n",
    "    result=execute(circuit1,simulator).result()\n",
    "    measurement=result.get_counts()\n",
    "    ExpectationValueZ=(measurement.get('00',0) +measurement.get('11',0)-measurement.get('01',0)-measurement.get('10',0))/1024\n",
    "        \n",
    "        \n",
    "        \n",
    "    #YY-gate\n",
    "    circuit1=QuantumCircuit(2,2)\n",
    "    #ansatz\n",
    "    circuit1.h(0)\n",
    "    circuit1.rz(n*pi/32,0)\n",
    "    circuit1.x(1) \n",
    "    circuit1.cx(0,1)\n",
    "        \n",
    "    #changing basis\n",
    "    circuit1.cx(1,0)\n",
    "    circuit1.h(1)\n",
    "    circuit1.x(1)\n",
    "        \n",
    "    circuit1.measure([0,1],[0,1])\n",
    "    simulator=Aer.get_backend('qasm_simulator')\n",
    "    result=execute(circuit1,simulator).result()\n",
    "    measurement=result.get_counts()\n",
    "        \n",
    "        \n",
    "        \n",
    "    ExpectationValueY=((measurement.get('00',0) +measurement.get('11',0)-measurement.get('01',0)-measurement.get('10',0))/1024)-1 #the -1 is for the identity matrix\n",
    "    ExpectationValue= (ExpectationValueX+ ExpectationValueY+ ExpectationValueZ)/2\n",
    "    ListExpectationValue.append(ExpectationValue)\n",
    "min(ListExpectationValue)"
   ]
  },
  {
   "cell_type": "code",
   "execution_count": null,
   "metadata": {},
   "outputs": [],
   "source": []
  }
 ],
 "metadata": {
  "kernelspec": {
   "display_name": "Python 3",
   "language": "python",
   "name": "python3"
  },
  "language_info": {
   "codemirror_mode": {
    "name": "ipython",
    "version": 3
   },
   "file_extension": ".py",
   "mimetype": "text/x-python",
   "name": "python",
   "nbconvert_exporter": "python",
   "pygments_lexer": "ipython3",
   "version": "3.7.3"
  }
 },
 "nbformat": 4,
 "nbformat_minor": 2
}
