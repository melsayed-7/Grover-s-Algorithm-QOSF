{
 "cells": [
  {
   "cell_type": "markdown",
   "metadata": {},
   "source": [
    "## I will reduce the `ancilla` & `noancilla` depth of Walid's circuits, not in terms of gates but in terms of the parallel implementation"
   ]
  },
  {
   "cell_type": "code",
   "execution_count": 7,
   "metadata": {},
   "outputs": [],
   "source": [
    "from qiskit import *\n",
    "from grover import *"
   ]
  },
  {
   "cell_type": "markdown",
   "metadata": {},
   "source": [
    "### There are two factors that contribute to the circuit depth:\n",
    "#### **1- The number of gates:**\n",
    "The depth of a circuit is the number of time steps required, assuming that gates acting on distinct bits can operate simultaneously (that is, the depth is the maximum length of a\n",
    "directed path from the input to the output of the circuit)[[1](http://www.theory.caltech.edu/~preskill/ph219/chap5_13.pdf)]. It's the maximum of the wire depths.\n",
    "\n",
    "*Example:* Let's suppose the following circuit and extract its depth:"
   ]
  },
  {
   "cell_type": "code",
   "execution_count": 4,
   "metadata": {},
   "outputs": [
    {
     "name": "stdout",
     "output_type": "stream",
     "text": [
      "The detpth of that circuit equal: 4\n"
     ]
    },
    {
     "data": {
      "image/png": "[encoded data removed]",
      "text/plain": [
       "<Figure size 479.192x204.68 with 1 Axes>"
      ]
     },
     "execution_count": 4,
     "metadata": {},
     "output_type": "execute_result"
    }
   ],
   "source": [
    "d1=QuantumCircuit(2,2)\n",
    "d1.x(1)\n",
    "d1.h(0)\n",
    "d1.x(0)\n",
    "d1.h(1)\n",
    "d1.h(1)\n",
    "d1.measure([0,1],[0,1])\n",
    "print('The detpth of that circuit equal:', d1.depth())\n",
    "d1.draw('mpl')"
   ]
  },
  {
   "cell_type": "markdown",
   "metadata": {},
   "source": [
    "$\\rightarrow$ As can be seen, The first wire has depth 3 (the measurement is counted) and the second has depth 4. The circuit depth is 4, the maximum of the wire depths."
   ]
  },
  {
   "cell_type": "markdown",
   "metadata": {},
   "source": [
    "#### **2- Levels of a circuit:** \n",
    "This is another aspect that could lead to the increase or decrease of the circuit depth, **and this is what makes an issue in my code, which I will discuss below.**\n",
    "\n",
    "A level is defined as a subsequence of commuting gates that can be applied in parallel, whereby all gates of a certain level are executed within the same time unit. The gates of the next level are executed once all gates of the preceding level have been completed. A level compaction helps increase the parallelization of the circuit implementation and, therefore, not only optimizes the runtime of the circuit but also helps decrease the decoherence effects by shortening the overall execution time[[2](https://arxiv.org/abs/quant-ph/0604001)]. That increases the robustness and accuracy of the algorithm implementation, so if we could get a minimum number of circuit levels would be optimal!\n",
    "\n",
    "**Now let me address the main point, I added some barriers to the circuit in my code, and it was meant from them to provide a pleasant visualization of what the algorithm output, where they help me to distinguish the oracle from the diffuser part. But where I didn't pay attention is in the * Levels of a circuit * notion, and to explain why the `barrier` matter, I will show you how this gate can increase the depth of a circuit. I am going to use two circuits `d2` & `d3` where the former has no barriers whereas the latter does:**"
   ]
  },
  {
   "cell_type": "markdown",
   "metadata": {},
   "source": [
    "* d2 circuit (no barriers)"
   ]
  },
  {
   "cell_type": "code",
   "execution_count": 5,
   "metadata": {},
   "outputs": [
    {
     "name": "stdout",
     "output_type": "stream",
     "text": [
      "The detpth of the circuit d2 equal: 2\n"
     ]
    },
    {
     "data": {
      "image/png": "[encoded data removed]",
      "text/plain": [
       "<Figure size 298.592x204.68 with 1 Axes>"
      ]
     },
     "execution_count": 5,
     "metadata": {},
     "output_type": "execute_result"
    }
   ],
   "source": [
    "d2=QuantumCircuit(3)\n",
    "d2.x(0)\n",
    "d2.h(0)\n",
    "d2.h(1)\n",
    "d2.x(2)\n",
    "d2.h(2)\n",
    "print('The detpth of the circuit d2 equal:', d2.depth())\n",
    "d2.draw('mpl')"
   ]
  },
  {
   "cell_type": "markdown",
   "metadata": {},
   "source": [
    "* d3 circuit (with barriers)"
   ]
  },
  {
   "cell_type": "code",
   "execution_count": 6,
   "metadata": {},
   "outputs": [
    {
     "name": "stdout",
     "output_type": "stream",
     "text": [
      "The detpth of the circuit d3 equal: 5\n"
     ]
    },
    {
     "data": {
      "image/png": "[encoded data removed]",
      "text/plain": [
       "<Figure size 599.592x204.68 with 1 Axes>"
      ]
     },
     "execution_count": 6,
     "metadata": {},
     "output_type": "execute_result"
    }
   ],
   "source": [
    "d3=QuantumCircuit(3)\n",
    "d3.x(0)\n",
    "d3.h(0)\n",
    "d3.barrier()\n",
    "d3.h(1)\n",
    "d3.barrier()\n",
    "d3.x(2)\n",
    "d3.h(2)\n",
    "print('The detpth of the circuit d3 equal:', d3.depth())\n",
    "d3.draw('mpl')"
   ]
  },
  {
   "cell_type": "markdown",
   "metadata": {},
   "source": [
    "$\\rightarrow$ **Therefore, the number of levels in the d3 circuit increases to $5$ so that the depth is equal to $5$, as opposed to the d2 circuit with only two levels (depth=$2$). See figure:**\n",
    "\n",
    "<img src=\"d2_d3.png\" alt=\"drawing\" width=\"800\"/>\n",
    "\n",
    "This shows that the functionality of adding barrier not just serves for a nice visualization but also prevent parallelization if needed (consequently expands the circuit depth).\n",
    "\n",
    "And let me illustrate how the depth decreases by running the code before and after committing (get rid of barriers) for both types of circuits `ancilla` & `noancilla`:"
   ]
  },
  {
   "cell_type": "markdown",
   "metadata": {},
   "source": [
    "* ***Before committing: `ancilla` circuit*** (with barriers)"
   ]
  },
  {
   "cell_type": "code",
   "execution_count": 8,
   "metadata": {},
   "outputs": [
    {
     "name": "stdout",
     "output_type": "stream",
     "text": [
      "The circuit depth before a commit for ancilla circuit:  387\n"
     ]
    }
   ],
   "source": [
    "r1, *_ = grover(['10001111'], \"ancilla\", 12)\n",
    "print('The circuit depth before a commit for ancilla circuit: ',r1.decompose().depth())"
   ]
  },
  {
   "cell_type": "markdown",
   "metadata": {},
   "source": [
    "* ***After committing: `ancilla` circuit*** (no barriers)"
   ]
  },
  {
   "cell_type": "code",
   "execution_count": 9,
   "metadata": {},
   "outputs": [
    {
     "name": "stdout",
     "output_type": "stream",
     "text": [
      "The circuit depth after a commit for ancilla circuit:  386\n"
     ]
    }
   ],
   "source": [
    "r2, *_ = grover(['10001111'], \"ancilla\", 12)\n",
    "print('The circuit depth after a commit for ancilla circuit: ',r2.decompose().depth())"
   ]
  },
  {
   "cell_type": "markdown",
   "metadata": {},
   "source": [
    "There is a one-unit reduction in circuit depth which is not a big deal. But more interestingly is the case of `noancilla` circuit.\n",
    "* ***Before committing: `noancilla` circuit*** (with barriers)"
   ]
  },
  {
   "cell_type": "code",
   "execution_count": 10,
   "metadata": {},
   "outputs": [
    {
     "name": "stdout",
     "output_type": "stream",
     "text": [
      "The circuit depth before a commit for noancilla circuit:  123\n"
     ]
    }
   ],
   "source": [
    "w1, *_ = grover(['10001111'], \"noancilla\", 12)\n",
    "print('The circuit depth before a commit for noancilla circuit: ',w1.decompose().depth())"
   ]
  },
  {
   "cell_type": "markdown",
   "metadata": {},
   "source": [
    "* ***After doing a commit: `noancilla` circuit*** (no barriers)"
   ]
  },
  {
   "cell_type": "code",
   "execution_count": 11,
   "metadata": {},
   "outputs": [
    {
     "name": "stdout",
     "output_type": "stream",
     "text": [
      "The circuit depth after a commit for noancilla circuit:  99\n"
     ]
    }
   ],
   "source": [
    "w2, *_ = grover(['10001111'], \"noancilla\", 12)\n",
    "print('The circuit depth after a commit for noancilla circuit: ',w2.decompose().depth())"
   ]
  },
  {
   "cell_type": "markdown",
   "metadata": {},
   "source": [
    "**As we can easily remark that the circuit depth is now $24$ times lesser than before, and voila! we prevent errors by simply deleting barriers :)**\n",
    "\n",
    "$\\Rightarrow$ **To sum up, in order to run our algorithm in the current NISQ devices we must reduce the depth as much as possible!**"
   ]
  },
  {
   "cell_type": "markdown",
   "metadata": {},
   "source": [
    "<h1 align=\"center\">\n",
    "\tSource:\n",
    "</h1>\n",
    "\n",
    "\n",
    "[1] [John Preskill, California Institute of Technology, Lecture Notes for Ph219/CS219: Quantum Information and Computation Chapter 5](http://www.theory.caltech.edu/~preskill/ph219/chap5_13.pdf)\n",
    "\n",
    "[2] [Quantum Circuit Simplification and Level Compaction](https://arxiv.org/abs/quant-ph/0604001)"
   ]
  }
 ],
 "metadata": {
  "kernelspec": {
   "display_name": "Python 3",
   "language": "python",
   "name": "python3"
  },
  "language_info": {
   "codemirror_mode": {
    "name": "ipython",
    "version": 3
   },
   "file_extension": ".py",
   "mimetype": "text/x-python",
   "name": "python",
   "nbconvert_exporter": "python",
   "pygments_lexer": "ipython3",
   "version": "3.7.6"
  }
 },
 "nbformat": 4,
 "nbformat_minor": 4
}
