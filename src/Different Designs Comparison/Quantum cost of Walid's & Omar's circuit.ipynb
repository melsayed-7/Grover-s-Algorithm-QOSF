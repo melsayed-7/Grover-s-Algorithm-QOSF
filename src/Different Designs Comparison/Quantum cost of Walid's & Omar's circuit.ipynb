{
 "cells": [
  {
   "cell_type": "markdown",
   "metadata": {},
   "source": [
    "## Find the number of gates and calculate the quantum cost of the circuit + a general Grover's algorithm code.\n",
    "Here I intend to compare two code **Walid's** code and **Omar's** code on Grover's algorithm for searching a string of binary numbers by calculating the quantum cost of both circuits."
   ]
  },
  {
   "cell_type": "code",
   "execution_count": 6,
   "metadata": {},
   "outputs": [],
   "source": [
    "import sys, os\n",
    "sys.path.append(os.path.abspath(os.path.join('..', 'Grover')))"
   ]
  },
  {
   "cell_type": "code",
   "execution_count": 7,
   "metadata": {},
   "outputs": [],
   "source": [
    "from qiskit import *\n",
    "from grover import *"
   ]
  },
  {
   "cell_type": "markdown",
   "metadata": {},
   "source": [
    "### String to be found is '01011001'"
   ]
  },
  {
   "cell_type": "code",
   "execution_count": 8,
   "metadata": {},
   "outputs": [
    {
     "data": {
      "text/plain": [
       "<qiskit.circuit.instructionset.InstructionSet at 0x7f5d01b35d10>"
      ]
     },
     "execution_count": 8,
     "metadata": {},
     "output_type": "execute_result"
    }
   ],
   "source": [
    "################################## OMAR'S CODE ##################################\n",
    "circuit=QuantumCircuit(16,8)\n",
    "a=[0,1,2,3,4,5,6,7,15]\n",
    "b=[0,1,2,3,4,5,6,7]\n",
    "circuit.x(15)\n",
    "circuit.h(a)\n",
    "i=0\n",
    "while i<12:\n",
    "    i=i+1\n",
    "    #oracle\n",
    "    circuit.x([1,2,5,7])\n",
    "    circuit.ccx(0,1,8)\n",
    "    x=2\n",
    "    y=8\n",
    "    z=9\n",
    "    while x<8:\n",
    "        circuit.ccx(x,y,z)\n",
    "        x=x+1\n",
    "        y=y+1\n",
    "        z=z+1\n",
    "    circuit.cx(14,15)\n",
    "    while x>2:\n",
    "        x=x-1\n",
    "        y=y-1\n",
    "        z=z-1\n",
    "        circuit.ccx(x,y,z)\n",
    "    circuit.ccx(0,1,8)\n",
    "    circuit.x([1,2,5,7])\n",
    "\n",
    "    #grover diffusion operator\n",
    "    circuit.h(b)\n",
    "    circuit.x(b)\n",
    "    circuit.ccx(0,1,8)\n",
    "    x=2\n",
    "    y=8\n",
    "    z=9\n",
    "    while x<8:\n",
    "        circuit.ccx(x,y,z)\n",
    "        x=x+1\n",
    "        y=y+1\n",
    "        z=z+1\n",
    "    circuit.cx(14,15)\n",
    "    while x>2:\n",
    "        x=x-1\n",
    "        y=y-1\n",
    "        z=z-1\n",
    "        circuit.ccx(x,y,z)\n",
    "    circuit.ccx(0,1,8)  \n",
    "    circuit.x(b)\n",
    "    circuit.h(b)\n",
    "\n",
    "circuit.measure(b,b)"
   ]
  },
  {
   "cell_type": "markdown",
   "metadata": {},
   "source": [
    "### -Number of gate:\n",
    "**Use the `count_ops()` method to harvest the number of operations in the circuit.**"
   ]
  },
  {
   "cell_type": "code",
   "execution_count": 9,
   "metadata": {},
   "outputs": [
    {
     "data": {
      "text/plain": [
       "OrderedDict([('ccx', 336), ('x', 289), ('h', 201), ('cx', 24), ('measure', 8)])"
      ]
     },
     "execution_count": 9,
     "metadata": {},
     "output_type": "execute_result"
    }
   ],
   "source": [
    "########### Count the operators ###########\n",
    "circuit.count_ops()"
   ]
  },
  {
   "cell_type": "markdown",
   "metadata": {},
   "source": [
    "### -Quantum Cost:\n",
    "The quantum cost of a circuit is the number of primitive quantum gates needed to implement the circuit.\n",
    "\n",
    "* First let's discover the quantum cost of each gate that will be used in our circuit; which are `cx`, `ccx`, `x`, and `h` gates. To do so, we must rely on the `decompose()`method to break down our gates."
   ]
  },
  {
   "cell_type": "code",
   "execution_count": 6,
   "metadata": {},
   "outputs": [
    {
     "data": {
      "image/png": "[encoded data removed]",
      "text/plain": [
       "<Figure size 1321.99x204.68 with 1 Axes>"
      ]
     },
     "execution_count": 6,
     "metadata": {},
     "output_type": "execute_result"
    }
   ],
   "source": [
    "cost=QuantumCircuit(3)\n",
    "cost.cx(0,1)\n",
    "cost.barrier()\n",
    "cost.x(0)\n",
    "cost.barrier()\n",
    "cost.h(0)\n",
    "cost.barrier()\n",
    "cost.ccx(0,1,2)\n",
    "cost.decompose().draw('mpl')"
   ]
  },
  {
   "cell_type": "markdown",
   "metadata": {},
   "source": [
    "And voila!\n",
    "\n",
    "$\\rightarrow$ The quantum cost of these gates are:\n",
    "\n",
    "* Control Gate `cx` = $1$.\n",
    "* Not Gate `x` = $1$.\n",
    "* Hadamard Gate `h` = $1$.\n",
    "* Toffoli Gate `ccx` = $15$.\n",
    "\n",
    "**Each quantum computer model may have a different cost for a given quantum gate.**\n",
    "\n",
    "As seen above There are in *Omar's* circuit: \n",
    "\n",
    "* $336$ Toffoli Gate `ccx`.\n",
    "* $289$ Not Gate `x`.\n",
    "* $201$ Hadamard Gate `h`.\n",
    "* $24$ Control Gate `cx`.\n",
    "\n",
    "$\\rightarrow$ **Hence the quantum cost of that Omar's circuit is:**$$Quantum\\;Cost = 15\\times336 + 1\\times289 + 1\\times201 + 1\\times24 = 5554.$$\n",
    "\n",
    "Actually, let us decompose the circuit to the primitive gates (elementary gates), like the rotation gates U3 and the CNOT gate, then calculate the cost.\n",
    "\n",
    "Any unitary operation can be replaced by a combination of controlled-NOT (CNOT) and single qubit gate, like U1,2,3 gates.\n",
    "\n",
    "By using `qiskit.transpiler` and importing `PassManager`, we can decompose this circuit into U3 (`u3`) gates and CNOT (`cx`) gates using the qiskit tool `Unroller` program, as seen below:"
   ]
  },
  {
   "cell_type": "code",
   "execution_count": 10,
   "metadata": {},
   "outputs": [
    {
     "data": {
      "text/plain": [
       "OrderedDict([('u3', 3514), ('cx', 2040), ('measure', 8)])"
      ]
     },
     "execution_count": 10,
     "metadata": {},
     "output_type": "execute_result"
    }
   ],
   "source": [
    "from qiskit.transpiler import PassManager\n",
    "from qiskit.transpiler.passes import Unroller\n",
    "pass_ = Unroller(['u3', 'cx'])\n",
    "pm = PassManager(pass_)\n",
    "new_circuit = pm.run(circuit) \n",
    "new_circuit.count_ops()"
   ]
  },
  {
   "cell_type": "markdown",
   "metadata": {},
   "source": [
    "Then, we remark that there are:\n",
    "\n",
    "* $3514$ U3 Gate `u3`.\n",
    "* $2040$ Ctrolled Gate `cx`.\n",
    "\n",
    "$\\rightarrow$ Therefore, the quantum cost of that circuit in this case is:$$Quantum\\;Cost = 3514 + 2040= 5554.$$\n",
    "\n",
    "Which is equal to what we achieved above."
   ]
  },
  {
   "cell_type": "markdown",
   "metadata": {},
   "source": [
    "Whereas, the CNOT gate is the most expensive gate to implement, wherein the current NISQ devises, the noise introduced implementing the CX gate is heavier.\n",
    "\n",
    "Consequently, we may weigh CX gates more than a single-qubit gate for the cost evaluation.\n",
    "\n",
    "**The lesser the quantum cost, the better the circuit.**\n",
    "\n",
    "This leads me to write a code that has three advantageous characteristics compared to the above one and outperforms on it, [(see the code test)](https://github.com/moustafa-7/Grover-s-Algorithm-QOSF/blob/master/src/Grover/main.ipynb):\n",
    "\n",
    "* It's a general code that accepts as input any string of a binary number to search for.\n",
    "\n",
    "* The boolean oracle and diffuser operator are carried out in two different ways:\n",
    "\n",
    "    1- An `'ancilla'` circuit; this one uses two-control Toffoli gates, thus the oracle will depends on ancillary qubits to be implemented, and its peculiarity lies in the diffuser operator, compared to Omar's one its gets rid of two Toffoli gates and uses instead two Hadamard gates, which is an advantage since the former is too expensive to implement.\n",
    "    \n",
    "    2- An `'noancilla'` circuit, uses multiple-control Toffoli gates instead of two-control Toffoli gates in both oracle and diffuser parts.\n",
    "    \n",
    "Let's see the difference between those circuits at the level of the quantum cost:"
   ]
  },
  {
   "cell_type": "code",
   "execution_count": 11,
   "metadata": {},
   "outputs": [],
   "source": [
    "##################################  WALID'S CODE  ##################################"
   ]
  },
  {
   "cell_type": "markdown",
   "metadata": {},
   "source": [
    "#### Same procedure to get the quantum cost:\n",
    "Let's evaluate the `ancilla` circuit first:"
   ]
  },
  {
   "cell_type": "code",
   "execution_count": 13,
   "metadata": {},
   "outputs": [
    {
     "data": {
      "text/plain": [
       "OrderedDict([('ccx', 312),\n",
       "             ('x', 288),\n",
       "             ('h', 216),\n",
       "             ('cx', 24),\n",
       "             ('u2', 9),\n",
       "             ('measure', 8),\n",
       "             ('u3', 1)])"
      ]
     },
     "execution_count": 13,
     "metadata": {},
     "output_type": "execute_result"
    }
   ],
   "source": [
    "ancilla_circuit, *_ =grover_itera(['01011001'], 'ancilla')\n",
    "ancilla_circuit.decompose().count_ops()"
   ]
  },
  {
   "cell_type": "markdown",
   "metadata": {},
   "source": [
    "* $312$ Toffoli Gate `ccx`.\n",
    "* $289$ Not Gate `x`= `u3(pi,0,pi)`.\n",
    "* $225$ Hadamard Gate `h`=`u2(0,pi)`.\n",
    "* $24$ Control Gate `cx`.\n",
    "\n",
    "$\\rightarrow$**Therefore, the cost of Walid's circuit is:**$$Quantum\\;Cost = 15\\times312 + 1\\times289 + 1\\times225 + 1\\times24 = 5218.$$\n",
    "\n",
    "$\\Rightarrow$ **As we can see the cost has been decreased, this is due to the decrease of the costly two-qubits Toffoli gate.**\n",
    "\n",
    "Without assessing the cost in the case of elementary gates, it turns out to be the same. However, this will be interesting in the case of `noancilla` circuit:"
   ]
  },
  {
   "cell_type": "code",
   "execution_count": 16,
   "metadata": {},
   "outputs": [
    {
     "data": {
      "text/plain": [
       "OrderedDict([('u3', 14314), ('cx', 13728), ('measure', 8)])"
      ]
     },
     "execution_count": 16,
     "metadata": {},
     "output_type": "execute_result"
    }
   ],
   "source": [
    "noancilla_circuit, *_ =grover_itera(['01011001'], 'noancilla')\n",
    "# to elementary gates: u3 and cx\n",
    "new_circuit = pm.run(noancilla_circuit) \n",
    "new_circuit.count_ops()"
   ]
  },
  {
   "cell_type": "markdown",
   "metadata": {},
   "source": [
    "So, there are: \n",
    "\n",
    "* $14314$ U3 Gate `u3`.\n",
    "* $13728$ Ctrolled Gate `cx`.\n",
    "\n",
    "$\\rightarrow$ **The cost is large:**$$Quantum\\;Cost = 14314 + 13728= 28042.$$\n",
    "\n",
    "$\\Rightarrow$ **This leads to the conclusion that if you don't want to pay off on the number of qubits (circuit width), you are going to do so in the number of gates used (circuit depth)!**\n",
    "\n",
    "Definitely there are many ways to implement Grover's circuit to come up with better ones; for instance, using the phase oracle reduces the number of qubits used. Hence Walid's code still under development."
   ]
  }
 ],
 "metadata": {
  "kernelspec": {
   "display_name": "Python 3",
   "language": "python",
   "name": "python3"
  },
  "language_info": {
   "codemirror_mode": {
    "name": "ipython",
    "version": 3
   },
   "file_extension": ".py",
   "mimetype": "text/x-python",
   "name": "python",
   "nbconvert_exporter": "python",
   "pygments_lexer": "ipython3",
   "version": "3.7.6"
  }
 },
 "nbformat": 4,
 "nbformat_minor": 4
}
